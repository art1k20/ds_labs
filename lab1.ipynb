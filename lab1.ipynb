{
 "cells": [
  {
   "cell_type": "code",
   "execution_count": 1,
   "metadata": {},
   "outputs": [],
   "source": [
    "import urllib.request\n",
    "from datetime import datetime\n",
    "import pandas as pd\n",
    "NOAAIndex = {\n",
    "        1:24,\n",
    "        2:25,\n",
    "        3:5,\n",
    "        4:6,\n",
    "        5:27,\n",
    "        6:23,\n",
    "        7:26,\n",
    "        8:7,\n",
    "        9:11,\n",
    "        10:13,\n",
    "        11:14,\n",
    "        12:15,\n",
    "        13:16,\n",
    "        14:17,\n",
    "        15:18,\n",
    "        16:19,\n",
    "        17:21,\n",
    "        18:22,\n",
    "        19:8,\n",
    "        20:9,\n",
    "        21:10,\n",
    "        22:1,\n",
    "        23:3,\n",
    "        24:2,\n",
    "        25:4, \n",
    "        26:12, #Kiev\n",
    "        27:20 #Sevastopol\n",
    "}\n",
    "\n",
    "def download_data( index, minYear=1991, maxYear=2022): \n",
    "    now = datetime.now()\n",
    "    now = \"{}.{}.{}_{}-{}\".format(now.day, now.month, now.year, now.hour, now.minute)\n",
    "    url = \"https://www.star.nesdis.noaa.gov/smcd/emb/vci/VH/get_TS_admin.php?country=UKR&provinceID={}&year1={}&year2={}&type=Mean\".format(NOAAIndex[index], minYear, maxYear)\n",
    "    destination = f'{index}_{now}.csv'\n",
    "    urllib.request.urlretrieve(url, destination)\n",
    "for i in range(1,28):\n",
    "    download_data(i)\n",
    "\n",
    "\n"
   ]
  },
  {
   "cell_type": "code",
   "execution_count": 3,
   "metadata": {},
   "outputs": [],
   "source": [
    "import pandas as pd\n",
    "headers = ['Year', 'Week', 'SMN', 'SMT', 'VCI', 'TCI', 'VHI', 'empty']\n",
    "df = pd.read_csv(r\"C:\\Users\\valer\\Desktop\\DS lab 1\\14_3.10.2022_20-41.csv\", header = 1, names = headers)\n",
    "df = df.drop(df.loc[df['VHI'] == -1].index)\n",
    "\n",
    " \n"
   ]
  },
  {
   "cell_type": "code",
   "execution_count": 2,
   "metadata": {},
   "outputs": [
    {
     "name": "stdout",
     "output_type": "stream",
     "text": [
      "63.84\n"
     ]
    }
   ],
   "source": [
    "def max_v(year):\n",
    "    return df[(df.Year.astype(str)==str(year)) & (df.VHI != -1)]['VHI'].max()\n",
    "print(max_v(1995))"
   ]
  },
  {
   "cell_type": "code",
   "execution_count": 9,
   "metadata": {},
   "outputs": [
    {
     "name": "stdout",
     "output_type": "stream",
     "text": [
      "27.85\n"
     ]
    }
   ],
   "source": [
    "def min_v(year):\n",
    "    return df[(df.Year.astype(str)==str(year)) & (df.VHI != -1)]['VHI'].min()\n",
    "\n",
    "print(min_v(1995))"
   ]
  },
  {
   "cell_type": "code",
   "execution_count": 4,
   "metadata": {},
   "outputs": [
    {
     "name": "stdout",
     "output_type": "stream",
     "text": [
      "     Year  Week    SMN     SMT    VCI   TCI    VHI  empty\n",
      "856  2007  25.0  0.275  307.24  20.05  3.72  11.88    NaN\n",
      "857  2007  26.0  0.260  307.75  15.25  3.17   9.21    NaN\n",
      "858  2007  27.0  0.246  308.57  12.24  1.93   7.08    NaN\n",
      "859  2007  28.0  0.232  309.00  10.19  1.60   5.90    NaN\n",
      "860  2007  29.0  0.221  308.95   9.24  1.80   5.52    NaN\n",
      "861  2007  30.0  0.214  308.70   9.43  2.27   5.85    NaN\n",
      "862  2007  31.0  0.210  308.23  10.23  3.41   6.82    NaN\n",
      "863  2007  32.0  0.207  307.35  12.39  5.33   8.86    NaN\n",
      "864  2007  33.0  0.207  306.19  15.29  8.54  11.91    NaN\n"
     ]
    }
   ],
   "source": [
    "def drought():\n",
    "  return  df[(df.VHI <= 15) & (df.VHI != -1)]\n",
    "\n",
    "print(drought())"
   ]
  }
 ],
 "metadata": {
  "kernelspec": {
   "display_name": "Python 3.9.10 64-bit",
   "language": "python",
   "name": "python3"
  },
  "language_info": {
   "codemirror_mode": {
    "name": "ipython",
    "version": 3
   },
   "file_extension": ".py",
   "mimetype": "text/x-python",
   "name": "python",
   "nbconvert_exporter": "python",
   "pygments_lexer": "ipython3",
   "version": "3.9.10"
  },
  "orig_nbformat": 4,
  "vscode": {
   "interpreter": {
    "hash": "fbe58ca63fe33f9eeae9e71d10368d2b4a57f2b1b395836210cc60d362c66949"
   }
  }
 },
 "nbformat": 4,
 "nbformat_minor": 2
}
